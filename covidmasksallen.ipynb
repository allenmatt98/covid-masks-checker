{
 "cells": [
  {
   "cell_type": "code",
   "execution_count": 1,
   "metadata": {},
   "outputs": [],
   "source": [
    "from keras.optimizers import RMSprop\n",
    "from keras.preprocessing.image import ImageDataGenerator\n",
    "import cv2\n",
    "from keras.models import Sequential\n",
    "from keras.layers import Conv2D, Input, ZeroPadding2D, BatchNormalization, Activation, MaxPooling2D, Flatten, Dense,Dropout\n",
    "from keras.models import Model, load_model\n",
    "from keras.callbacks import TensorBoard, ModelCheckpoint\n",
    "from sklearn.model_selection import train_test_split\n",
    "from sklearn.metrics import f1_score\n",
    "from sklearn.utils import shuffle\n",
    "import imutils\n",
    "import numpy as np"
   ]
  },
  {
   "cell_type": "code",
   "execution_count": 2,
   "metadata": {},
   "outputs": [
    {
     "name": "stdout",
     "output_type": "stream",
     "text": [
      "Found 616 images belonging to 2 classes.\n",
      "Found 198 images belonging to 2 classes.\n"
     ]
    }
   ],
   "source": [
    "TRAINING_DIR = \"./maskdata/train\"\n",
    "train_datagen = ImageDataGenerator(rescale=1.0/255,\n",
    "                                   rotation_range=40,\n",
    "                                   width_shift_range=0.2,\n",
    "                                   height_shift_range=0.2,\n",
    "                                   shear_range=0.2,\n",
    "                                   zoom_range=0.2,\n",
    "                                   horizontal_flip=True,\n",
    "                                   fill_mode='nearest')\n",
    "\n",
    "train_generator = train_datagen.flow_from_directory(TRAINING_DIR, \n",
    "                                                    batch_size=10, \n",
    "                                                    target_size=(224, 224))\n",
    "VALIDATION_DIR = \"./maskdata/test\"\n",
    "validation_datagen = ImageDataGenerator(rescale=1.0/255)\n",
    "\n",
    "validation_generator = validation_datagen.flow_from_directory(VALIDATION_DIR, \n",
    "                                                         batch_size=10, \n",
    "                                                         target_size=(224, 224))"
   ]
  },
  {
   "cell_type": "code",
   "execution_count": 4,
   "metadata": {},
   "outputs": [],
   "source": [
    "# Loading VGG16 base model from Keras\n",
    "import tensorflow as tf\n",
    "baseModel = tf.keras.applications.VGG16(weights=\"imagenet\", \n",
    "                                        include_top=False, \n",
    "                                        input_tensor=tf.keras.layers.Input(shape=(224, 224, 3)))\n",
    "baseModel.trainable = False"
   ]
  },
  {
   "cell_type": "code",
   "execution_count": 7,
   "metadata": {},
   "outputs": [],
   "source": [
    "# Add more layers to the base model\n",
    "\n",
    "model = Sequential()\n",
    "\n",
    "model.add(baseModel)\n",
    "\n",
    "\n",
    "model.add(Flatten())\n",
    "model.add(Dense(64, activation=\"relu\"))\n",
    "model.add(tf.keras.layers.Dropout(0.5))\n",
    "model.add(Dense(2, activation=\"softmax\"))"
   ]
  },
  {
   "cell_type": "code",
   "execution_count": 8,
   "metadata": {},
   "outputs": [
    {
     "name": "stdout",
     "output_type": "stream",
     "text": [
      "Model: \"sequential_1\"\n",
      "_________________________________________________________________\n",
      "Layer (type)                 Output Shape              Param #   \n",
      "=================================================================\n",
      "vgg16 (Functional)           (None, 7, 7, 512)         14714688  \n",
      "_________________________________________________________________\n",
      "flatten_1 (Flatten)          (None, 25088)             0         \n",
      "_________________________________________________________________\n",
      "dense_2 (Dense)              (None, 64)                1605696   \n",
      "_________________________________________________________________\n",
      "dropout_1 (Dropout)          (None, 64)                0         \n",
      "_________________________________________________________________\n",
      "dense_3 (Dense)              (None, 2)                 130       \n",
      "=================================================================\n",
      "Total params: 16,320,514\n",
      "Trainable params: 1,605,826\n",
      "Non-trainable params: 14,714,688\n",
      "_________________________________________________________________\n"
     ]
    }
   ],
   "source": [
    "# Compile the model\n",
    "\n",
    "model.compile(optimizer=\"adam\", loss=\"binary_crossentropy\", metrics=[\"accuracy\"])\n",
    "model.summary()"
   ]
  },
  {
   "cell_type": "code",
   "execution_count": 9,
   "metadata": {},
   "outputs": [],
   "source": [
    "checkpoint = ModelCheckpoint('model2-{epoch:03d}.model',monitor='val_loss',verbose=0,save_best_only=True,mode='auto')"
   ]
  },
  {
   "cell_type": "code",
   "execution_count": 10,
   "metadata": {},
   "outputs": [
    {
     "name": "stdout",
     "output_type": "stream",
     "text": [
      "Epoch 1/20\n",
      "12/12 [==============================] - ETA: 0s - loss: 1.7965 - accuracy: 0.5833WARNING:tensorflow:From C:\\Users\\HP\\Miniconda2\\envs\\python3\\lib\\site-packages\\tensorflow\\python\\training\\tracking\\tracking.py:111: Model.state_updates (from tensorflow.python.keras.engine.training) is deprecated and will be removed in a future version.\n",
      "Instructions for updating:\n",
      "This property should not be used in TensorFlow 2.0, as updates are applied automatically.\n",
      "WARNING:tensorflow:From C:\\Users\\HP\\Miniconda2\\envs\\python3\\lib\\site-packages\\tensorflow\\python\\training\\tracking\\tracking.py:111: Layer.updates (from tensorflow.python.keras.engine.base_layer) is deprecated and will be removed in a future version.\n",
      "Instructions for updating:\n",
      "This property should not be used in TensorFlow 2.0, as updates are applied automatically.\n",
      "INFO:tensorflow:Assets written to: model2-001.model\\assets\n",
      "12/12 [==============================] - 76s 6s/step - loss: 1.7965 - accuracy: 0.5833 - val_loss: 0.4891 - val_accuracy: 0.7677\n",
      "Epoch 2/20\n",
      "12/12 [==============================] - ETA: 0s - loss: 0.7843 - accuracy: 0.7500INFO:tensorflow:Assets written to: model2-002.model\\assets\n",
      "12/12 [==============================] - 66s 6s/step - loss: 0.7843 - accuracy: 0.7500 - val_loss: 0.4241 - val_accuracy: 0.7879\n",
      "Epoch 3/20\n",
      "12/12 [==============================] - ETA: 0s - loss: 0.4004 - accuracy: 0.8083INFO:tensorflow:Assets written to: model2-003.model\\assets\n",
      "12/12 [==============================] - 66s 5s/step - loss: 0.4004 - accuracy: 0.8083 - val_loss: 0.2106 - val_accuracy: 0.9394\n",
      "Epoch 4/20\n",
      "12/12 [==============================] - ETA: 0s - loss: 0.3550 - accuracy: 0.8333INFO:tensorflow:Assets written to: model2-004.model\\assets\n",
      "12/12 [==============================] - 72s 6s/step - loss: 0.3550 - accuracy: 0.8333 - val_loss: 0.1981 - val_accuracy: 0.9293\n",
      "Epoch 5/20\n",
      "12/12 [==============================] - ETA: 0s - loss: 0.2889 - accuracy: 0.8583INFO:tensorflow:Assets written to: model2-005.model\\assets\n",
      "12/12 [==============================] - 73s 6s/step - loss: 0.2889 - accuracy: 0.8583 - val_loss: 0.1368 - val_accuracy: 0.9697\n",
      "Epoch 6/20\n",
      "12/12 [==============================] - ETA: 0s - loss: 0.3165 - accuracy: 0.8250INFO:tensorflow:Assets written to: model2-006.model\\assets\n",
      "12/12 [==============================] - 70s 6s/step - loss: 0.3165 - accuracy: 0.8250 - val_loss: 0.0901 - val_accuracy: 0.9848\n",
      "Epoch 7/20\n",
      "12/12 [==============================] - 66s 6s/step - loss: 0.2672 - accuracy: 0.8500 - val_loss: 0.2129 - val_accuracy: 0.9293\n",
      "Epoch 8/20\n",
      "12/12 [==============================] - 66s 5s/step - loss: 0.2427 - accuracy: 0.8879 - val_loss: 0.1040 - val_accuracy: 0.9899\n",
      "Epoch 9/20\n",
      "12/12 [==============================] - 63s 5s/step - loss: 0.2170 - accuracy: 0.9333 - val_loss: 0.1453 - val_accuracy: 0.9646\n",
      "Epoch 10/20\n",
      "12/12 [==============================] - 65s 5s/step - loss: 0.2283 - accuracy: 0.8667 - val_loss: 0.1016 - val_accuracy: 0.9798\n",
      "Epoch 11/20\n",
      "12/12 [==============================] - ETA: 0s - loss: 0.1697 - accuracy: 0.9417INFO:tensorflow:Assets written to: model2-011.model\\assets\n",
      "12/12 [==============================] - 70s 6s/step - loss: 0.1697 - accuracy: 0.9417 - val_loss: 0.0669 - val_accuracy: 0.9697\n",
      "Epoch 12/20\n",
      "12/12 [==============================] - 65s 5s/step - loss: 0.1578 - accuracy: 0.9417 - val_loss: 0.0872 - val_accuracy: 0.9596\n",
      "Epoch 13/20\n",
      "12/12 [==============================] - ETA: 0s - loss: 0.1809 - accuracy: 0.9417INFO:tensorflow:Assets written to: model2-013.model\\assets\n",
      "12/12 [==============================] - 71s 6s/step - loss: 0.1809 - accuracy: 0.9417 - val_loss: 0.0530 - val_accuracy: 0.9798\n",
      "Epoch 14/20\n",
      "12/12 [==============================] - 67s 6s/step - loss: 0.2035 - accuracy: 0.9333 - val_loss: 0.0654 - val_accuracy: 0.9747\n",
      "Epoch 15/20\n",
      "12/12 [==============================] - ETA: 0s - loss: 0.1693 - accuracy: 0.9224INFO:tensorflow:Assets written to: model2-015.model\\assets\n",
      "12/12 [==============================] - 70s 6s/step - loss: 0.1693 - accuracy: 0.9224 - val_loss: 0.0513 - val_accuracy: 0.9747\n",
      "Epoch 16/20\n",
      "12/12 [==============================] - ETA: 0s - loss: 0.0819 - accuracy: 0.9741INFO:tensorflow:Assets written to: model2-016.model\\assets\n",
      "12/12 [==============================] - 69s 6s/step - loss: 0.0819 - accuracy: 0.9741 - val_loss: 0.0345 - val_accuracy: 0.9848\n",
      "Epoch 17/20\n",
      "12/12 [==============================] - 66s 5s/step - loss: 0.0653 - accuracy: 0.9833 - val_loss: 0.0991 - val_accuracy: 0.9545\n",
      "Epoch 18/20\n",
      "12/12 [==============================] - 66s 5s/step - loss: 0.1744 - accuracy: 0.9083 - val_loss: 0.0824 - val_accuracy: 0.9596\n",
      "Epoch 19/20\n",
      "12/12 [==============================] - ETA: 0s - loss: 0.1426 - accuracy: 0.9417INFO:tensorflow:Assets written to: model2-019.model\\assets\n",
      "12/12 [==============================] - 72s 6s/step - loss: 0.1426 - accuracy: 0.9417 - val_loss: 0.0330 - val_accuracy: 0.9899\n",
      "Epoch 20/20\n",
      "12/12 [==============================] - 65s 5s/step - loss: 0.1190 - accuracy: 0.9500 - val_loss: 0.0372 - val_accuracy: 0.9848\n"
     ]
    }
   ],
   "source": [
    "history = model.fit(train_generator,\n",
    "                              steps_per_epoch = 12,\n",
    "                              epochs=20,\n",
    "                              validation_data=validation_generator,\n",
    "                              callbacks=[checkpoint])"
   ]
  },
  {
   "cell_type": "code",
   "execution_count": 11,
   "metadata": {},
   "outputs": [],
   "source": [
    "# Training results\n",
    "\n",
    "train_acc = history.history[\"accuracy\"]\n",
    "train_loss = history.history[\"loss\"]\n",
    "\n",
    "validation_acc = history.history[\"val_accuracy\"]\n",
    "validation_loss = history.history[\"val_loss\"]\n",
    "\n",
    "epochs = range(len(train_acc))"
   ]
  },
  {
   "cell_type": "code",
   "execution_count": 13,
   "metadata": {},
   "outputs": [
    {
     "data": {
      "image/png": "[encoded data removed]",
      "text/plain": [
       "<Figure size 432x288 with 1 Axes>"
      ]
     },
     "metadata": {
      "needs_background": "light"
     },
     "output_type": "display_data"
    }
   ],
   "source": [
    "# Plot the train and test accuracy\n",
    "import matplotlib.pyplot as plt\n",
    "\n",
    "fig, ax = plt.subplots()\n",
    "ax.plot(epochs, train_acc, label='Training')\n",
    "ax.plot(epochs, validation_acc, label='Testing')\n",
    "leg = ax.legend();\n",
    "fig.suptitle('Training & Test Accuracy', fontsize=16);"
   ]
  },
  {
   "cell_type": "code",
   "execution_count": 14,
   "metadata": {},
   "outputs": [
    {
     "data": {
      "image/png": "[encoded data removed]",
      "text/plain": [
       "<Figure size 432x288 with 1 Axes>"
      ]
     },
     "metadata": {
      "needs_background": "light"
     },
     "output_type": "display_data"
    }
   ],
   "source": [
    "# Plot the train and test loss\n",
    "\n",
    "fig, ax = plt.subplots()\n",
    "ax.plot(epochs, train_loss, label='Training')\n",
    "ax.plot(epochs, validation_loss, label='Testing')\n",
    "leg = ax.legend();\n",
    "fig.suptitle('Training & Test Loss', fontsize=16);"
   ]
  },
  {
   "cell_type": "code",
   "execution_count": null,
   "metadata": {},
   "outputs": [],
   "source": []
  }
 ],
 "metadata": {
  "kernelspec": {
   "display_name": "Python 3",
   "language": "python",
   "name": "python3"
  },
  "language_info": {
   "codemirror_mode": {
    "name": "ipython",
    "version": 3
   },
   "file_extension": ".py",
   "mimetype": "text/x-python",
   "name": "python",
   "nbconvert_exporter": "python",
   "pygments_lexer": "ipython3",
   "version": "3.8.3"
  }
 },
 "nbformat": 4,
 "nbformat_minor": 4
}
